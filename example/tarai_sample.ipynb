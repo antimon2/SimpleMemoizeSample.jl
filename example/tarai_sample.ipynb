{
 "cells": [
  {
   "cell_type": "code",
   "execution_count": 1,
   "metadata": {
    "ExecuteTime": {
     "end_time": "2020-05-06T13:17:19.005000+09:00",
     "start_time": "2020-05-06T04:17:15.669Z"
    }
   },
   "outputs": [
    {
     "name": "stdout",
     "output_type": "stream",
     "text": [
      "Julia Version 1.4.1\n",
      "Commit 381693d3df* (2020-04-14 17:20 UTC)\n",
      "Platform Info:\n",
      "  OS: Linux (x86_64-pc-linux-gnu)\n",
      "  CPU: Intel(R) Xeon(R) CPU @ 2.30GHz\n",
      "  WORD_SIZE: 64\n",
      "  LIBM: libopenlibm\n",
      "  LLVM: libLLVM-8.0.1 (ORCJIT, haswell)\n",
      "Environment:\n",
      "  JULIA_PATH = /srv/julia\n",
      "  JULIA_DEPOT_PATH = /srv/julia/pkg\n",
      "  JULIA_PROJECT = /home/jovyan\n",
      "  JULIA_VERSION = 1.4.1\n"
     ]
    }
   ],
   "source": [
    "versioninfo()"
   ]
  },
  {
   "cell_type": "markdown",
   "metadata": {},
   "source": [
    "## Naive 実装"
   ]
  },
  {
   "cell_type": "code",
   "execution_count": 2,
   "metadata": {
    "ExecuteTime": {
     "end_time": "2020-05-06T13:17:20.290000+09:00",
     "start_time": "2020-05-06T04:17:19.723Z"
    }
   },
   "outputs": [
    {
     "data": {
      "text/plain": [
       "tarai_naive (generic function with 1 method)"
      ]
     },
     "execution_count": 2,
     "metadata": {},
     "output_type": "execute_result"
    }
   ],
   "source": [
    "function tarai_naive(x, y, z)\n",
    "    if x ≤ y\n",
    "        y\n",
    "    else\n",
    "        tarai_naive(tarai_naive(x - 1, y, z), tarai_naive(y - 1, z, x), tarai_naive(z - 1, x, y))\n",
    "    end\n",
    "end"
   ]
  },
  {
   "cell_type": "code",
   "execution_count": 3,
   "metadata": {
    "ExecuteTime": {
     "end_time": "2020-05-06T13:17:21.133000+09:00",
     "start_time": "2020-05-06T04:17:20.914Z"
    }
   },
   "outputs": [
    {
     "data": {
      "text/plain": [
       "4"
      ]
     },
     "execution_count": 3,
     "metadata": {},
     "output_type": "execute_result"
    }
   ],
   "source": [
    "tarai_naive(4, 2, 0)"
   ]
  },
  {
   "cell_type": "code",
   "execution_count": 4,
   "metadata": {
    "ExecuteTime": {
     "end_time": "2020-05-06T13:17:24.262000+09:00",
     "start_time": "2020-05-06T04:17:24.170Z"
    }
   },
   "outputs": [
    {
     "name": "stdout",
     "output_type": "stream",
     "text": [
      "  0.038978 seconds\n"
     ]
    },
    {
     "data": {
      "text/plain": [
       "12"
      ]
     },
     "execution_count": 4,
     "metadata": {},
     "output_type": "execute_result"
    }
   ],
   "source": [
    "@time tarai_naive(12, 6, 0)"
   ]
  },
  {
   "cell_type": "code",
   "execution_count": 5,
   "metadata": {
    "ExecuteTime": {
     "end_time": "2020-05-06T13:17:26.918000+09:00",
     "start_time": "2020-05-06T04:17:25.609Z"
    }
   },
   "outputs": [
    {
     "name": "stdout",
     "output_type": "stream",
     "text": [
      "  1.953000 seconds\n"
     ]
    },
    {
     "data": {
      "text/plain": [
       "14"
      ]
     },
     "execution_count": 5,
     "metadata": {},
     "output_type": "execute_result"
    }
   ],
   "source": [
    "@time tarai_naive(14, 7, 0)"
   ]
  },
  {
   "cell_type": "code",
   "execution_count": 6,
   "metadata": {
    "ExecuteTime": {
     "end_time": "2020-05-06T13:18:39.391000+09:00",
     "start_time": "2020-05-06T04:17:27.751Z"
    }
   },
   "outputs": [
    {
     "name": "stdout",
     "output_type": "stream",
     "text": [
      "115.857705 seconds\n"
     ]
    },
    {
     "data": {
      "text/plain": [
       "16"
      ]
     },
     "execution_count": 6,
     "metadata": {},
     "output_type": "execute_result"
    }
   ],
   "source": [
    "@time tarai_naive(16, 8, 0)"
   ]
  },
  {
   "cell_type": "code",
   "execution_count": null,
   "metadata": {
    "ExecuteTime": {
     "end_time": "2020-05-04T21:24:03.477000+09:00",
     "start_time": "2020-05-04T12:22:35.088Z"
    }
   },
   "outputs": [],
   "source": [
    "# tarai_naive(100, 50, 0)"
   ]
  },
  {
   "cell_type": "markdown",
   "metadata": {},
   "source": [
    "## メモ化（手実装）"
   ]
  },
  {
   "cell_type": "code",
   "execution_count": 7,
   "metadata": {
    "ExecuteTime": {
     "end_time": "2020-05-06T13:18:42.162000+09:00",
     "start_time": "2020-05-06T04:18:41.666Z"
    }
   },
   "outputs": [
    {
     "data": {
      "text/plain": [
       "Dict{Tuple{Int64,Int64,Int64},Int64} with 0 entries"
      ]
     },
     "execution_count": 7,
     "metadata": {},
     "output_type": "execute_result"
    }
   ],
   "source": [
    "const TARAI_CACHE = Dict{NTuple{3, Int}, Int}()"
   ]
  },
  {
   "cell_type": "code",
   "execution_count": 8,
   "metadata": {
    "ExecuteTime": {
     "end_time": "2020-05-06T13:18:43.986000+09:00",
     "start_time": "2020-05-06T04:18:43.893Z"
    }
   },
   "outputs": [
    {
     "data": {
      "text/plain": [
       "tarai_cached (generic function with 1 method)"
      ]
     },
     "execution_count": 8,
     "metadata": {},
     "output_type": "execute_result"
    }
   ],
   "source": [
    "function tarai_cached(x, y, z)\n",
    "    get!(TARAI_CACHE, (x, y, z)) do\n",
    "        if x ≤ y\n",
    "            y\n",
    "        else\n",
    "            tarai_cached(tarai_cached(x - 1, y, z), tarai_cached(y - 1, z, x), tarai_cached(z - 1, x, y))\n",
    "        end\n",
    "    end\n",
    "end"
   ]
  },
  {
   "cell_type": "code",
   "execution_count": 9,
   "metadata": {
    "ExecuteTime": {
     "end_time": "2020-05-06T13:18:44.898000+09:00",
     "start_time": "2020-05-06T04:18:44.803Z"
    }
   },
   "outputs": [
    {
     "data": {
      "text/plain": [
       "4"
      ]
     },
     "execution_count": 9,
     "metadata": {},
     "output_type": "execute_result"
    }
   ],
   "source": [
    "tarai_cached(4, 2, 0)"
   ]
  },
  {
   "cell_type": "code",
   "execution_count": 10,
   "metadata": {
    "ExecuteTime": {
     "end_time": "2020-05-06T13:18:45.598000+09:00",
     "start_time": "2020-05-06T04:18:45.560Z"
    }
   },
   "outputs": [
    {
     "name": "stdout",
     "output_type": "stream",
     "text": [
      "  0.000055 seconds (7 allocations: 41.953 KiB)\n"
     ]
    },
    {
     "data": {
      "text/plain": [
       "12"
      ]
     },
     "execution_count": 10,
     "metadata": {},
     "output_type": "execute_result"
    }
   ],
   "source": [
    "@time tarai_cached(12, 6, 0)"
   ]
  },
  {
   "cell_type": "code",
   "execution_count": 11,
   "metadata": {
    "ExecuteTime": {
     "end_time": "2020-05-06T13:19:29.462000+09:00",
     "start_time": "2020-05-06T04:19:29.422Z"
    }
   },
   "outputs": [
    {
     "name": "stdout",
     "output_type": "stream",
     "text": [
      "  0.000046 seconds\n"
     ]
    },
    {
     "data": {
      "text/plain": [
       "14"
      ]
     },
     "execution_count": 11,
     "metadata": {},
     "output_type": "execute_result"
    }
   ],
   "source": [
    "@time tarai_cached(14, 7, 0)"
   ]
  },
  {
   "cell_type": "code",
   "execution_count": 12,
   "metadata": {
    "ExecuteTime": {
     "end_time": "2020-05-06T13:19:30.572000+09:00",
     "start_time": "2020-05-06T04:19:30.537Z"
    }
   },
   "outputs": [
    {
     "name": "stdout",
     "output_type": "stream",
     "text": [
      "  0.000025 seconds\n"
     ]
    },
    {
     "data": {
      "text/plain": [
       "16"
      ]
     },
     "execution_count": 12,
     "metadata": {},
     "output_type": "execute_result"
    }
   ],
   "source": [
    "@time tarai_cached(16, 8, 0)"
   ]
  },
  {
   "cell_type": "code",
   "execution_count": 13,
   "metadata": {
    "ExecuteTime": {
     "end_time": "2020-05-06T13:18:48.455000+09:00",
     "start_time": "2020-05-06T04:18:48.416Z"
    }
   },
   "outputs": [
    {
     "name": "stdout",
     "output_type": "stream",
     "text": [
      "  0.013841 seconds (17 allocations: 2.708 MiB)\n"
     ]
    },
    {
     "data": {
      "text/plain": [
       "100"
      ]
     },
     "execution_count": 13,
     "metadata": {},
     "output_type": "execute_result"
    }
   ],
   "source": [
    "@time tarai_cached(100, 50, 0)"
   ]
  },
  {
   "cell_type": "markdown",
   "metadata": {},
   "source": [
    "## Naive 実装 と メモ化（手実装） の AST 比較"
   ]
  },
  {
   "cell_type": "code",
   "execution_count": 14,
   "metadata": {
    "ExecuteTime": {
     "end_time": "2020-05-06T13:18:52.195000+09:00",
     "start_time": "2020-05-06T04:18:51.837Z"
    }
   },
   "outputs": [
    {
     "data": {
      "text/plain": [
       ":(function tarai_naive(x, y, z)\n",
       "      #= In[14]:2 =#\n",
       "      if x ≤ y\n",
       "          #= In[14]:3 =#\n",
       "          y\n",
       "      else\n",
       "          #= In[14]:5 =#\n",
       "          tarai_naive(tarai_naive(x - 1, y, z), tarai_naive(y - 1, z, x), tarai_naive(z - 1, x, y))\n",
       "      end\n",
       "  end)"
      ]
     },
     "execution_count": 14,
     "metadata": {},
     "output_type": "execute_result"
    }
   ],
   "source": [
    "ex_tarai_naive = :(function tarai_naive(x, y, z)\n",
    "    if x ≤ y\n",
    "        y\n",
    "    else\n",
    "        tarai_naive(tarai_naive(x - 1, y, z), tarai_naive(y - 1, z, x), tarai_naive(z - 1, x, y))\n",
    "    end\n",
    "end)"
   ]
  },
  {
   "cell_type": "code",
   "execution_count": 15,
   "metadata": {
    "ExecuteTime": {
     "end_time": "2020-05-06T13:18:53.152000+09:00",
     "start_time": "2020-05-06T04:18:53.143Z"
    }
   },
   "outputs": [
    {
     "data": {
      "text/plain": [
       ":(function tarai_cached(x, y, z)\n",
       "      #= In[15]:2 =#\n",
       "      get!(TARAI_CACHE, (x, y, z)) do \n",
       "          #= In[15]:3 =#\n",
       "          if x ≤ y\n",
       "              #= In[15]:4 =#\n",
       "              y\n",
       "          else\n",
       "              #= In[15]:6 =#\n",
       "              tarai_cached(tarai_cached(x - 1, y, z), tarai_cached(y - 1, z, x), tarai_cached(z - 1, x, y))\n",
       "          end\n",
       "      end\n",
       "  end)"
      ]
     },
     "execution_count": 15,
     "metadata": {},
     "output_type": "execute_result"
    }
   ],
   "source": [
    "ex_tarai_cached = :(function tarai_cached(x, y, z)\n",
    "    get!(TARAI_CACHE, (x, y, z)) do\n",
    "        if x ≤ y\n",
    "            y\n",
    "        else\n",
    "            tarai_cached(tarai_cached(x - 1, y, z), tarai_cached(y - 1, z, x), tarai_cached(z - 1, x, y))\n",
    "        end\n",
    "    end\n",
    "end)"
   ]
  },
  {
   "cell_type": "code",
   "execution_count": 16,
   "metadata": {
    "ExecuteTime": {
     "end_time": "2020-05-06T13:18:55.024000+09:00",
     "start_time": "2020-05-06T04:18:54.632Z"
    }
   },
   "outputs": [
    {
     "name": "stdout",
     "output_type": "stream",
     "text": [
      "Expr\n",
      "  head: Symbol function\n",
      "  args: Array{Any}((2,))\n",
      "    1: Expr\n",
      "      head: Symbol call\n",
      "      args: Array{Any}((4,))\n",
      "        1: Symbol tarai_naive\n",
      "        2: Symbol x\n",
      "        3: Symbol y\n",
      "        4: Symbol z\n",
      "    2: Expr\n",
      "      head: Symbol block\n",
      "      args: Array{Any}((2,))\n",
      "        1: LineNumberNode\n",
      "          line: Int64 2\n",
      "          file: Symbol In[14]\n",
      "        2: Expr\n",
      "          head: Symbol if\n",
      "          args: Array{Any}((3,))\n",
      "            1: Expr\n",
      "              head: Symbol call\n",
      "              args: Array{Any}((3,))\n",
      "                1: Symbol ≤\n",
      "                2: Symbol x\n",
      "                3: Symbol y\n",
      "            2: Expr\n",
      "              head: Symbol block\n",
      "              args: Array{Any}((2,))\n",
      "                1: LineNumberNode\n",
      "                2: Symbol y\n",
      "            3: Expr\n",
      "              head: Symbol block\n",
      "              args: Array{Any}((2,))\n",
      "                1: LineNumberNode\n",
      "                2: Expr\n"
     ]
    }
   ],
   "source": [
    "dump(ex_tarai_naive)"
   ]
  },
  {
   "cell_type": "code",
   "execution_count": 17,
   "metadata": {
    "ExecuteTime": {
     "end_time": "2020-05-06T13:18:56.799000+09:00",
     "start_time": "2020-05-06T04:18:56.744Z"
    }
   },
   "outputs": [
    {
     "name": "stdout",
     "output_type": "stream",
     "text": [
      "Expr\n",
      "  head: Symbol function\n",
      "  args: Array{Any}((2,))\n",
      "    1: Expr\n",
      "      head: Symbol call\n",
      "      args: Array{Any}((4,))\n",
      "        1: Symbol tarai_cached\n",
      "        2: Symbol x\n",
      "        3: Symbol y\n",
      "        4: Symbol z\n",
      "    2: Expr\n",
      "      head: Symbol block\n",
      "      args: Array{Any}((2,))\n",
      "        1: LineNumberNode\n",
      "          line: Int64 2\n",
      "          file: Symbol In[15]\n",
      "        2: Expr\n",
      "          head: Symbol do\n",
      "          args: Array{Any}((2,))\n",
      "            1: Expr\n",
      "              head: Symbol call\n",
      "              args: Array{Any}((3,))\n",
      "                1: Symbol get!\n",
      "                2: Symbol TARAI_CACHE\n",
      "                3: Expr\n",
      "                  head: Symbol tuple\n",
      "                  args: Array{Any}((3,))\n",
      "                    1: Symbol x\n",
      "                    2: Symbol y\n",
      "                    3: Symbol z\n",
      "            2: Expr\n",
      "              head: Symbol ->\n",
      "              args: Array{Any}((2,))\n",
      "                1: Expr\n",
      "                  head: Symbol tuple\n",
      "                  args: Array{Any}((0,))\n",
      "                2: Expr\n",
      "                  head: Symbol block\n",
      "                  args: Array{Any}((2,))\n",
      "                    1: LineNumberNode\n",
      "                      line: Int64 3\n",
      "                      file: Symbol In[15]\n",
      "                    2: Expr\n",
      "                      head: Symbol if\n",
      "                      args: Array{Any}((3,))\n",
      "                        1: Expr\n",
      "                          head: Symbol call\n",
      "                          args: Array{Any}((3,))\n",
      "                            1: Symbol ≤\n",
      "                            2: Symbol x\n",
      "                            3: Symbol y\n",
      "                        2: Expr\n",
      "                          head: Symbol block\n",
      "                          args: Array{Any}((2,))\n",
      "                            1: LineNumberNode\n",
      "                            2: Symbol y\n",
      "                        3: Expr\n",
      "                          head: Symbol block\n",
      "                          args: Array{Any}((2,))\n",
      "                            1: LineNumberNode\n",
      "                            2: Expr\n"
     ]
    }
   ],
   "source": [
    "# dump(ex_tarai_cached)\n",
    "dump(ex_tarai_cached; maxdepth=14)"
   ]
  },
  {
   "cell_type": "code",
   "execution_count": 18,
   "metadata": {
    "ExecuteTime": {
     "end_time": "2020-05-06T13:19:01.738000+09:00",
     "start_time": "2020-05-06T04:19:01.387Z"
    }
   },
   "outputs": [
    {
     "data": {
      "text/plain": [
       "(:(tarai_naive(x, y, z)), :(tarai_cached(x, y, z)))"
      ]
     },
     "execution_count": 18,
     "metadata": {},
     "output_type": "execute_result"
    }
   ],
   "source": [
    "(ex_tarai_naive.args[1], ex_tarai_cached.args[1])"
   ]
  },
  {
   "cell_type": "code",
   "execution_count": 19,
   "metadata": {
    "ExecuteTime": {
     "end_time": "2020-05-06T13:19:02.664000+09:00",
     "start_time": "2020-05-06T04:19:02.658Z"
    }
   },
   "outputs": [
    {
     "data": {
      "text/plain": [
       "quote\n",
       "    #= In[14]:2 =#\n",
       "    if x ≤ y\n",
       "        #= In[14]:3 =#\n",
       "        y\n",
       "    else\n",
       "        #= In[14]:5 =#\n",
       "        tarai_naive(tarai_naive(x - 1, y, z), tarai_naive(y - 1, z, x), tarai_naive(z - 1, x, y))\n",
       "    end\n",
       "end"
      ]
     },
     "execution_count": 19,
     "metadata": {},
     "output_type": "execute_result"
    }
   ],
   "source": [
    "ex_tarai_naive.args[2]"
   ]
  },
  {
   "cell_type": "code",
   "execution_count": 20,
   "metadata": {
    "ExecuteTime": {
     "end_time": "2020-05-06T13:19:07.510000+09:00",
     "start_time": "2020-05-06T04:19:07.471Z"
    }
   },
   "outputs": [
    {
     "data": {
      "text/plain": [
       "quote\n",
       "    #= In[15]:3 =#\n",
       "    if x ≤ y\n",
       "        #= In[15]:4 =#\n",
       "        y\n",
       "    else\n",
       "        #= In[15]:6 =#\n",
       "        tarai_cached(tarai_cached(x - 1, y, z), tarai_cached(y - 1, z, x), tarai_cached(z - 1, x, y))\n",
       "    end\n",
       "end"
      ]
     },
     "execution_count": 20,
     "metadata": {},
     "output_type": "execute_result"
    }
   ],
   "source": [
    "ex_tarai_cached.args[2].args[2].args[2].args[2]"
   ]
  },
  {
   "cell_type": "code",
   "execution_count": 21,
   "metadata": {
    "ExecuteTime": {
     "end_time": "2020-05-06T13:19:08.516000+09:00",
     "start_time": "2020-05-06T04:19:08.514Z"
    }
   },
   "outputs": [
    {
     "data": {
      "text/plain": [
       "quote\n",
       "    #= In[15]:2 =#\n",
       "    get!(TARAI_CACHE, (x, y, z)) do \n",
       "        #= In[15]:3 =#\n",
       "        if x ≤ y\n",
       "            #= In[15]:4 =#\n",
       "            y\n",
       "        else\n",
       "            #= In[15]:6 =#\n",
       "            tarai_cached(tarai_cached(x - 1, y, z), tarai_cached(y - 1, z, x), tarai_cached(z - 1, x, y))\n",
       "        end\n",
       "    end\n",
       "end"
      ]
     },
     "execution_count": 21,
     "metadata": {},
     "output_type": "execute_result"
    }
   ],
   "source": [
    "ex_tarai_cached.args[2]"
   ]
  },
  {
   "cell_type": "code",
   "execution_count": 22,
   "metadata": {
    "ExecuteTime": {
     "end_time": "2020-05-06T13:19:12.070000+09:00",
     "start_time": "2020-05-06T04:19:12.068Z"
    }
   },
   "outputs": [
    {
     "data": {
      "text/plain": [
       ":(get!(TARAI_CACHE, (x, y, z)) do \n",
       "      #= In[22]:2 =#\n",
       "      begin\n",
       "          #= In[14]:2 =#\n",
       "          if x ≤ y\n",
       "              #= In[14]:3 =#\n",
       "              y\n",
       "          else\n",
       "              #= In[14]:5 =#\n",
       "              tarai_naive(tarai_naive(x - 1, y, z), tarai_naive(y - 1, z, x), tarai_naive(z - 1, x, y))\n",
       "          end\n",
       "      end\n",
       "  end)"
      ]
     },
     "execution_count": 22,
     "metadata": {},
     "output_type": "execute_result"
    }
   ],
   "source": [
    ":(get!(TARAI_CACHE, (x, y, z)) do\n",
    "    $(ex_tarai_naive.args[2])\n",
    "end)"
   ]
  },
  {
   "cell_type": "markdown",
   "metadata": {},
   "source": [
    "## メモ化（マクロ利用）"
   ]
  },
  {
   "cell_type": "markdown",
   "metadata": {},
   "source": [
    "### マクロ定義"
   ]
  },
  {
   "cell_type": "markdown",
   "metadata": {
    "ExecuteTime": {
     "end_time": "2020-05-04T21:55:27.382000+09:00",
     "start_time": "2020-05-04T12:55:27.163Z"
    }
   },
   "source": [
    "```julia\n",
    "macro simplememoize(ex)\n",
    "    @assert Meta.isexpr(ex, :function)\n",
    "    fname = ex.args[1].args[1]\n",
    "    fname_escaped = esc(fname)\n",
    "    fargs = esc.(ex.args[1].args[2:end])\n",
    "    fbody = esc(ex.args[2])\n",
    "    _cache = gensym(Symbol(fname, \"_cache\"))\n",
    "    quote\n",
    "        const $_cache = Dict{NTuple{$(length(fargs))}, Any}()\n",
    "        function $fname_escaped($(fargs...))\n",
    "            get!($_cache, ($(Expr(:tuple, fargs...)))) do\n",
    "                $fbody\n",
    "            end\n",
    "        end\n",
    "    end\n",
    "end\n",
    "```"
   ]
  },
  {
   "cell_type": "code",
   "execution_count": 23,
   "metadata": {
    "ExecuteTime": {
     "end_time": "2020-05-06T13:19:19.803000+09:00",
     "start_time": "2020-05-06T04:19:19.801Z"
    }
   },
   "outputs": [],
   "source": [
    "using SimpleMemoizeSample"
   ]
  },
  {
   "cell_type": "code",
   "execution_count": 24,
   "metadata": {
    "ExecuteTime": {
     "end_time": "2020-05-06T13:19:21.125000+09:00",
     "start_time": "2020-05-06T04:19:20.985Z"
    }
   },
   "outputs": [
    {
     "data": {
      "text/plain": [
       "quote\n",
       "    #= /home/jovyan/src/SimpleMemoizeSample.jl:13 =#\n",
       "    const var\"#32###tarai_cache#253\" = SimpleMemoizeSample.Dict{SimpleMemoizeSample.NTuple{3}, SimpleMemoizeSample.Any}()\n",
       "    #= /home/jovyan/src/SimpleMemoizeSample.jl:14 =#\n",
       "    function tarai(x, y, z)\n",
       "        #= /home/jovyan/src/SimpleMemoizeSample.jl:15 =#\n",
       "        SimpleMemoizeSample.get!(var\"#32###tarai_cache#253\", (x, y, z)) do \n",
       "            #= /home/jovyan/src/SimpleMemoizeSample.jl:16 =#\n",
       "            begin\n",
       "                #= In[24]:2 =#\n",
       "                if x ≤ y\n",
       "                    #= In[24]:3 =#\n",
       "                    y\n",
       "                else\n",
       "                    #= In[24]:5 =#\n",
       "                    tarai(tarai(x - 1, y, z), tarai(y - 1, z, x), tarai(z - 1, x, y))\n",
       "                end\n",
       "            end\n",
       "        end\n",
       "    end\n",
       "end"
      ]
     },
     "execution_count": 24,
     "metadata": {},
     "output_type": "execute_result"
    }
   ],
   "source": [
    "@macroexpand @simplememoize function tarai(x, y, z)\n",
    "    if x ≤ y\n",
    "        y\n",
    "    else\n",
    "        tarai(tarai(x - 1, y, z), tarai(y - 1, z, x), tarai(z - 1, x, y))\n",
    "    end\n",
    "end"
   ]
  },
  {
   "cell_type": "code",
   "execution_count": 25,
   "metadata": {
    "ExecuteTime": {
     "end_time": "2020-05-06T13:19:25.190000+09:00",
     "start_time": "2020-05-06T04:19:25.028Z"
    }
   },
   "outputs": [
    {
     "data": {
      "text/plain": [
       "tarai (generic function with 1 method)"
      ]
     },
     "execution_count": 25,
     "metadata": {},
     "output_type": "execute_result"
    }
   ],
   "source": [
    "@simplememoize function tarai(x, y, z)\n",
    "    if x ≤ y\n",
    "        y\n",
    "    else\n",
    "        tarai(tarai(x - 1, y, z), tarai(y - 1, z, x), tarai(z - 1, x, y))\n",
    "    end\n",
    "end"
   ]
  },
  {
   "cell_type": "code",
   "execution_count": 26,
   "metadata": {
    "ExecuteTime": {
     "end_time": "2020-05-06T13:19:26.532000+09:00",
     "start_time": "2020-05-06T04:19:26.438Z"
    }
   },
   "outputs": [
    {
     "data": {
      "text/plain": [
       "4"
      ]
     },
     "execution_count": 26,
     "metadata": {},
     "output_type": "execute_result"
    }
   ],
   "source": [
    "tarai(4, 2, 0)"
   ]
  },
  {
   "cell_type": "code",
   "execution_count": 27,
   "metadata": {
    "ExecuteTime": {
     "end_time": "2020-05-06T13:19:28.176000+09:00",
     "start_time": "2020-05-06T04:19:28.154Z"
    }
   },
   "outputs": [
    {
     "name": "stdout",
     "output_type": "stream",
     "text": [
      "  0.000117 seconds (767 allocations: 42.016 KiB)\n"
     ]
    },
    {
     "data": {
      "text/plain": [
       "12"
      ]
     },
     "execution_count": 27,
     "metadata": {},
     "output_type": "execute_result"
    }
   ],
   "source": [
    "@time tarai(12, 6, 0)"
   ]
  },
  {
   "cell_type": "code",
   "execution_count": 28,
   "metadata": {
    "ExecuteTime": {
     "end_time": "2020-05-06T13:19:29.462000+09:00",
     "start_time": "2020-05-06T04:19:29.422Z"
    }
   },
   "outputs": [
    {
     "name": "stdout",
     "output_type": "stream",
     "text": [
      "  0.000044 seconds (143 allocations: 4.469 KiB)\n"
     ]
    },
    {
     "data": {
      "text/plain": [
       "14"
      ]
     },
     "execution_count": 28,
     "metadata": {},
     "output_type": "execute_result"
    }
   ],
   "source": [
    "@time tarai(14, 7, 0)"
   ]
  },
  {
   "cell_type": "code",
   "execution_count": 29,
   "metadata": {
    "ExecuteTime": {
     "end_time": "2020-05-06T13:19:30.572000+09:00",
     "start_time": "2020-05-06T04:19:30.537Z"
    }
   },
   "outputs": [
    {
     "name": "stdout",
     "output_type": "stream",
     "text": [
      "  0.000054 seconds (191 allocations: 5.969 KiB)\n"
     ]
    },
    {
     "data": {
      "text/plain": [
       "16"
      ]
     },
     "execution_count": 29,
     "metadata": {},
     "output_type": "execute_result"
    }
   ],
   "source": [
    "@time tarai(16, 8, 0)"
   ]
  },
  {
   "cell_type": "code",
   "execution_count": 30,
   "metadata": {
    "ExecuteTime": {
     "end_time": "2020-05-06T13:19:32.877000+09:00",
     "start_time": "2020-05-06T04:19:32.786Z"
    }
   },
   "outputs": [
    {
     "name": "stdout",
     "output_type": "stream",
     "text": [
      "  0.023568 seconds (85.71 k allocations: 3.580 MiB, 50.73% gc time)\n"
     ]
    },
    {
     "data": {
      "text/plain": [
       "100"
      ]
     },
     "execution_count": 30,
     "metadata": {},
     "output_type": "execute_result"
    }
   ],
   "source": [
    "@time tarai(100, 50, 0)"
   ]
  },
  {
   "cell_type": "markdown",
   "metadata": {},
   "source": [
    "## ベンチマーク"
   ]
  },
  {
   "cell_type": "code",
   "execution_count": 31,
   "metadata": {
    "ExecuteTime": {
     "end_time": "2020-05-06T13:19:36.019000+09:00",
     "start_time": "2020-05-06T04:19:35.979Z"
    }
   },
   "outputs": [],
   "source": [
    "using BenchmarkTools"
   ]
  },
  {
   "cell_type": "code",
   "execution_count": 32,
   "metadata": {
    "ExecuteTime": {
     "end_time": "2020-05-06T13:19:48.737000+09:00",
     "start_time": "2020-05-06T04:19:36.709Z"
    }
   },
   "outputs": [
    {
     "data": {
      "text/plain": [
       "BenchmarkTools.Trial: \n",
       "  memory estimate:  0 bytes\n",
       "  allocs estimate:  0\n",
       "  --------------\n",
       "  minimum time:     36.567 ms (0.00% GC)\n",
       "  median time:      42.587 ms (0.00% GC)\n",
       "  mean time:        43.730 ms (0.00% GC)\n",
       "  maximum time:     62.868 ms (0.00% GC)\n",
       "  --------------\n",
       "  samples:          115\n",
       "  evals/sample:     1"
      ]
     },
     "execution_count": 32,
     "metadata": {},
     "output_type": "execute_result"
    }
   ],
   "source": [
    "@benchmark tarai_naive(12, 6, 0)"
   ]
  },
  {
   "cell_type": "code",
   "execution_count": 33,
   "metadata": {
    "ExecuteTime": {
     "end_time": "2020-05-06T13:19:56.374000+09:00",
     "start_time": "2020-05-06T04:19:50.499Z"
    }
   },
   "outputs": [
    {
     "data": {
      "text/plain": [
       "BenchmarkTools.Trial: \n",
       "  memory estimate:  0 bytes\n",
       "  allocs estimate:  0\n",
       "  --------------\n",
       "  minimum time:     22.856 μs (0.00% GC)\n",
       "  median time:      23.595 μs (0.00% GC)\n",
       "  mean time:        26.669 μs (0.00% GC)\n",
       "  maximum time:     228.192 μs (0.00% GC)\n",
       "  --------------\n",
       "  samples:          10000\n",
       "  evals/sample:     1"
      ]
     },
     "execution_count": 33,
     "metadata": {},
     "output_type": "execute_result"
    }
   ],
   "source": [
    "# @benchmark tarai_cached(12, 6, 0)\n",
    "@benchmark begin\n",
    "    empty!($TARAI_CACHE)\n",
    "    tarai_cached(12, 6, 0)\n",
    "end"
   ]
  },
  {
   "cell_type": "code",
   "execution_count": 34,
   "metadata": {
    "ExecuteTime": {
     "end_time": "2020-05-06T13:20:08.973000+09:00",
     "start_time": "2020-05-06T04:19:58.324Z"
    }
   },
   "outputs": [
    {
     "data": {
      "text/plain": [
       "BenchmarkTools.Trial: \n",
       "  memory estimate:  0 bytes\n",
       "  allocs estimate:  0\n",
       "  --------------\n",
       "  minimum time:     2.153 ms (0.00% GC)\n",
       "  median time:      2.254 ms (0.00% GC)\n",
       "  mean time:        2.424 ms (0.00% GC)\n",
       "  maximum time:     104.091 ms (0.00% GC)\n",
       "  --------------\n",
       "  samples:          2056\n",
       "  evals/sample:     1"
      ]
     },
     "execution_count": 34,
     "metadata": {},
     "output_type": "execute_result"
    }
   ],
   "source": [
    "@benchmark begin\n",
    "    empty!($TARAI_CACHE)\n",
    "    tarai_cached(100, 50, 0)\n",
    "end"
   ]
  },
  {
   "cell_type": "code",
   "execution_count": 35,
   "metadata": {
    "ExecuteTime": {
     "end_time": "2020-05-06T13:20:11.661000+09:00",
     "start_time": "2020-05-06T04:20:11.360Z"
    },
    "scrolled": true
   },
   "outputs": [
    {
     "data": {
      "text/plain": [
       "Dict{Tuple{T,T,T} where T,Any}"
      ]
     },
     "execution_count": 35,
     "metadata": {},
     "output_type": "execute_result"
    }
   ],
   "source": [
    "cache_var_name = first(name for name in names(Main, all=true) if occursin(\"#tarai_cache#\", string(name)))\n",
    "cache_var = getfield(@__MODULE__, cache_var_name)\n",
    "typeof(cache_var)"
   ]
  },
  {
   "cell_type": "code",
   "execution_count": 36,
   "metadata": {
    "ExecuteTime": {
     "end_time": "2020-05-06T13:20:18.770000+09:00",
     "start_time": "2020-05-06T04:20:12.731Z"
    }
   },
   "outputs": [
    {
     "data": {
      "text/plain": [
       "BenchmarkTools.Trial: \n",
       "  memory estimate:  7.03 KiB\n",
       "  allocs estimate:  225\n",
       "  --------------\n",
       "  minimum time:     59.553 μs (0.00% GC)\n",
       "  median time:      71.857 μs (0.00% GC)\n",
       "  mean time:        85.042 μs (0.65% GC)\n",
       "  maximum time:     5.654 ms (98.25% GC)\n",
       "  --------------\n",
       "  samples:          10000\n",
       "  evals/sample:     1"
      ]
     },
     "execution_count": 36,
     "metadata": {},
     "output_type": "execute_result"
    }
   ],
   "source": [
    "@benchmark begin\n",
    "    empty!($cache_var)\n",
    "    tarai(12, 6, 0)\n",
    "end"
   ]
  },
  {
   "cell_type": "code",
   "execution_count": 37,
   "metadata": {
    "ExecuteTime": {
     "end_time": "2020-05-06T13:20:33.564000+09:00",
     "start_time": "2020-05-06T04:20:22.964Z"
    }
   },
   "outputs": [
    {
     "data": {
      "text/plain": [
       "BenchmarkTools.Trial: \n",
       "  memory estimate:  687.34 KiB\n",
       "  allocs estimate:  21995\n",
       "  --------------\n",
       "  minimum time:     3.082 ms (0.00% GC)\n",
       "  median time:      3.659 ms (0.00% GC)\n",
       "  mean time:        4.330 ms (2.06% GC)\n",
       "  maximum time:     103.942 ms (0.00% GC)\n",
       "  --------------\n",
       "  samples:          1150\n",
       "  evals/sample:     1"
      ]
     },
     "execution_count": 37,
     "metadata": {},
     "output_type": "execute_result"
    }
   ],
   "source": [
    "@benchmark begin\n",
    "    empty!($cache_var)\n",
    "    tarai(100, 50, 0)\n",
    "end"
   ]
  }
 ],
 "metadata": {
  "_draft": {
   "nbviewer_url": "https://gist.github.com/7124e75a00ccb26ae3590c0bb7204e47"
  },
  "gist": {
   "data": {
    "description": "JuliaTokai_202005/SimpleMemoizeSample/example/tarai_sample.ipynb",
    "public": true
   },
   "id": "7124e75a00ccb26ae3590c0bb7204e47"
  },
  "kernelspec": {
   "display_name": "Julia 1.4.1",
   "language": "julia",
   "name": "julia-1.4"
  },
  "language_info": {
   "file_extension": ".jl",
   "mimetype": "application/julia",
   "name": "julia",
   "version": "1.4.1"
  }
 },
 "nbformat": 4,
 "nbformat_minor": 2
}
